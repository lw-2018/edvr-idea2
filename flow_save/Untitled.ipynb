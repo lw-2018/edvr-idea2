{
 "cells": [
  {
   "cell_type": "code",
   "execution_count": 1,
   "metadata": {},
   "outputs": [],
   "source": [
    "import numpy as np"
   ]
  },
  {
   "cell_type": "code",
   "execution_count": 3,
   "metadata": {},
   "outputs": [],
   "source": [
    "w = np.load('1.npy')"
   ]
  },
  {
   "cell_type": "code",
   "execution_count": 69,
   "metadata": {},
   "outputs": [],
   "source": [
    "import cv2\n",
    "bgr = cv2.cvtColor(img*255,cv2.COLOR_GRAY2RGB)\n"
   ]
  },
  {
   "cell_type": "code",
   "execution_count": 77,
   "metadata": {},
   "outputs": [],
   "source": [
    "# # 色调H：用角度度量，取值范围为0°～360°，从红色开始按逆时针方向计算，红色为0°，绿色为120°,蓝色为240°\n",
    "# # 饱和度S：取值范围为0.0～1.0\n",
    "# # 亮度V：取值范围为0.0(黑色)～1.0(白色)\n",
    "\n",
    "# hsv = np.zeros((80, 80, 3), np.uint8)\n",
    "# mag, ang = cv2.cartToPolar(img,img)\n",
    "hsv[...,0] = 255\n",
    "hsv[...,1] = img*255\n",
    "# flownet是将V赋值为255, 此函数遵循flownet，饱和度S代表像素位移的大小，亮度都为最大，便于观看\n",
    "# 也有的光流可视化讲s赋值为255，亮度代表像素位移的大小，整个图片会很暗，很少这样用\n",
    "hsv[...,2] = 255\n",
    "bgr = cv2.cvtColor(hsv,cv2.COLOR_RGB2GRAY)\n"
   ]
  },
  {
   "cell_type": "code",
   "execution_count": 1,
   "metadata": {},
   "outputs": [
    {
     "ename": "NameError",
     "evalue": "name 'cv2' is not defined",
     "output_type": "error",
     "traceback": [
      "\u001b[0;31m---------------------------------------------------------------------------\u001b[0m",
      "\u001b[0;31mNameError\u001b[0m                                 Traceback (most recent call last)",
      "\u001b[0;32m<ipython-input-1-6290ee177907>\u001b[0m in \u001b[0;36m<module>\u001b[0;34m\u001b[0m\n\u001b[0;32m----> 1\u001b[0;31m \u001b[0mcv2\u001b[0m\u001b[0;34m.\u001b[0m\u001b[0mimwrite\u001b[0m\u001b[0;34m(\u001b[0m\u001b[0;34m's.png'\u001b[0m\u001b[0;34m,\u001b[0m\u001b[0mbgr\u001b[0m\u001b[0;34m)\u001b[0m\u001b[0;34m\u001b[0m\u001b[0;34m\u001b[0m\u001b[0m\n\u001b[0m",
      "\u001b[0;31mNameError\u001b[0m: name 'cv2' is not defined"
     ]
    }
   ],
   "source": [
    "cv2.imwrite('s.png',bgr)"
   ]
  },
  {
   "cell_type": "code",
   "execution_count": 32,
   "metadata": {},
   "outputs": [],
   "source": [
    "import numpy as np\n",
    "import cv2\n",
    "def get_mask(mask, pic_index):\n",
    "    hsv = np.zeros((80, 80, 3), np.uint8)\n",
    "    mask = mask [0,pic_index]\n",
    "    mask = mask.mean(axis=0)\n",
    "    mask = mask.mean(axis=0)\n",
    "    hsv[...,0] = mask*255\n",
    "    hsv[...,1] = cv2.normalize(mask,None,0,255,cv2.NORM_MINMAX)\n",
    "    hsv[...,2] = 255\n",
    "    bgr = cv2.cvtColor(hsv,cv2.COLOR_RGB2GRAY)\n",
    "    cv2.imwrite('mask.png',bgr)\n",
    "def get_flow(flow,pic_index):\n",
    "    flow = flow [0,pic_index]\n",
    "    flow = flow.mean(axis=0)\n",
    "    flow = flow.reshape(8,18,80,80)\n",
    "    flow = flow.mean(axis=0)\n",
    "#     flow_x = flow[::2,:,:].mean(axis=0)\n",
    "#     flow_y = flow[1::2,:,:].mean(axis=0)\n",
    "    flow_x = flow[0]\n",
    "    flow_y = flow[1]\n",
    "    h, w = flow_x.shape[:2]\n",
    "    hsv = np.zeros((h, w, 3), np.uint8)\n",
    "    mag, ang = cv2.cartToPolar(flow_y,flow_x)\n",
    "    hsv[...,0] = ang*180/np.pi/2\n",
    "    hsv[...,1] = cv2.normalize(mag,None,0,255,cv2.NORM_MINMAX)\n",
    "    # flownet是将V赋值为255, 此函数遵循flownet，饱和度S代表像素位移的大小，亮度都为最大，便于观看\n",
    "    # 也有的光流可视化讲s赋值为255，亮度代表像素位移的大小，整个图片会很暗，很少这样用\n",
    "    hsv[...,2] = 255\n",
    "    bgr = cv2.cvtColor(hsv,cv2.COLOR_HSV2BGR)\n",
    "    cv2.imwrite('flow.png',bgr)\n",
    "    print(flow_x.mean(),flow_y.mean())\n",
    "def get_gt(flow,pic_index):\n",
    "    flow = flow[pic_index]\n",
    "\n",
    "#     flow_x = flow[::2,:,:].mean(axis=0)\n",
    "#     flow_y = flow[1::2,:,:].mean(axis=0)\n",
    "    flow_x = flow[...,0]\n",
    "    flow_y = flow[...,1]\n",
    "    h, w = flow_x.shape[:2]\n",
    "    hsv = np.zeros((h, w, 3), np.uint8)\n",
    "    mag, ang = cv2.cartToPolar(flow_y,flow_x)\n",
    "    hsv[...,0] = ang*180/np.pi/2\n",
    "    hsv[...,1] = cv2.normalize(mag,None,0,255,cv2.NORM_MINMAX)\n",
    "    # flownet是将V赋值为255, 此函数遵循flownet，饱和度S代表像素位移的大小，亮度都为最大，便于观看\n",
    "    # 也有的光流可视化讲s赋值为255，亮度代表像素位移的大小，整个图片会很暗，很少这样用\n",
    "    hsv[...,2] = 255\n",
    "    bgr = cv2.cvtColor(hsv,cv2.COLOR_HSV2BGR)\n",
    "    cv2.imwrite('gt.png',bgr)\n",
    "    print(flow_x.mean(),flow_y.mean())"
   ]
  },
  {
   "cell_type": "code",
   "execution_count": 33,
   "metadata": {},
   "outputs": [],
   "source": [
    "mask = np.load('mask.npy')\n",
    "#flow = np.load('offset.npy')\n",
    "#id00505/YP5kMp_1g_A 7 (320,320,3)\n",
    "flow = np.load('/data2/wei/vox-320/GT/id05274/vZa2U_IQlV0/flow.npy')\n",
    "#flow = np.load('offset.npy')\n",
    "#/data2/wei/vox-320/GT/id05274/vZa2U_IQlV0\n"
   ]
  },
  {
   "cell_type": "code",
   "execution_count": 34,
   "metadata": {},
   "outputs": [
    {
     "name": "stdout",
     "output_type": "stream",
     "text": [
      "0.7744824 2.6110742\n"
     ]
    }
   ],
   "source": [
    "get_gt(flow,0)\n",
    "get_mask(mask,0)"
   ]
  },
  {
   "cell_type": "code",
   "execution_count": 139,
   "metadata": {},
   "outputs": [
    {
     "data": {
      "text/plain": [
       "(7, 80, 80, 2)"
      ]
     },
     "execution_count": 139,
     "metadata": {},
     "output_type": "execute_result"
    }
   ],
   "source": [
    "flow.shape"
   ]
  },
  {
   "cell_type": "code",
   "execution_count": 39,
   "metadata": {},
   "outputs": [],
   "source": [
    "path = '/data2/wei/vox-320/LR/id05274/vZa2U_IQlV0/im4.png'"
   ]
  },
  {
   "cell_type": "code",
   "execution_count": 42,
   "metadata": {},
   "outputs": [],
   "source": [
    "lr_pic = cv2.imread(path)"
   ]
  },
  {
   "cell_type": "code",
   "execution_count": 43,
   "metadata": {},
   "outputs": [],
   "source": [
    "lr_pic = cv2.resize(lr_pic,(320,320),interpolation = cv2.INTER_CUBIC)"
   ]
  },
  {
   "cell_type": "code",
   "execution_count": 45,
   "metadata": {},
   "outputs": [
    {
     "data": {
      "text/plain": [
       "True"
      ]
     },
     "execution_count": 45,
     "metadata": {},
     "output_type": "execute_result"
    }
   ],
   "source": [
    "cv2.imwrite('lr.png',lr_pic)"
   ]
  },
  {
   "cell_type": "code",
   "execution_count": 2,
   "metadata": {},
   "outputs": [],
   "source": [
    "import numpy as np"
   ]
  },
  {
   "cell_type": "code",
   "execution_count": 7,
   "metadata": {},
   "outputs": [],
   "source": [
    "w = np.load('1.npy')"
   ]
  },
  {
   "cell_type": "code",
   "execution_count": 8,
   "metadata": {},
   "outputs": [
    {
     "data": {
      "text/plain": [
       "5.886106"
      ]
     },
     "execution_count": 8,
     "metadata": {},
     "output_type": "execute_result"
    }
   ],
   "source": [
    "w.max()"
   ]
  },
  {
   "cell_type": "code",
   "execution_count": null,
   "metadata": {},
   "outputs": [],
   "source": []
  }
 ],
 "metadata": {
  "kernelspec": {
   "display_name": "Python [conda env:arc]",
   "language": "python",
   "name": "conda-env-arc-py"
  },
  "language_info": {
   "codemirror_mode": {
    "name": "ipython",
    "version": 3
   },
   "file_extension": ".py",
   "mimetype": "text/x-python",
   "name": "python",
   "nbconvert_exporter": "python",
   "pygments_lexer": "ipython3",
   "version": "3.6.12"
  }
 },
 "nbformat": 4,
 "nbformat_minor": 4
}

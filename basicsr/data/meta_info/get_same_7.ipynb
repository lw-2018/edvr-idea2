{
 "cells": [
  {
   "cell_type": "code",
   "execution_count": 21,
   "metadata": {},
   "outputs": [],
   "source": [
    "import glob\n",
    "import os\n",
    "path = '/data2/wei/vox-320/LR/'\n",
    "import cv2"
   ]
  },
  {
   "cell_type": "code",
   "execution_count": 24,
   "metadata": {},
   "outputs": [],
   "source": [
    "with open('vox_320_test.txt') as f:\n",
    "    for lines in f:\n",
    "        id_seq = lines.split(' ')[0]\n",
    "        input_path = path+id_seq\n",
    "        #print(input_path)\n",
    "        outputpath = input_path.replace('vox-320','vox-7-same')\n",
    "       # print(input_path + '/im4.png')\n",
    "        img = cv2.imread(input_path + '/im4.png')\n",
    "        if not os.path.exists(outputpath):\n",
    "            os.makedirs(outputpath)\n",
    "        for i in range(1,8):\n",
    "            cv2.imwrite(outputpath+'/im'+str(i)+'.png',img)\n",
    "        "
   ]
  },
  {
   "cell_type": "code",
   "execution_count": null,
   "metadata": {},
   "outputs": [],
   "source": []
  }
 ],
 "metadata": {
  "kernelspec": {
   "display_name": "Python [conda env:arc]",
   "language": "python",
   "name": "conda-env-arc-py"
  },
  "language_info": {
   "codemirror_mode": {
    "name": "ipython",
    "version": 3
   },
   "file_extension": ".py",
   "mimetype": "text/x-python",
   "name": "python",
   "nbconvert_exporter": "python",
   "pygments_lexer": "ipython3",
   "version": "3.6.12"
  }
 },
 "nbformat": 4,
 "nbformat_minor": 4
}

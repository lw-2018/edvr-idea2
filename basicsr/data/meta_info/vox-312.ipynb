{
 "cells": [
  {
   "cell_type": "code",
   "execution_count": 1,
   "metadata": {},
   "outputs": [],
   "source": [
    "import glob\n",
    "import random"
   ]
  },
  {
   "cell_type": "code",
   "execution_count": 33,
   "metadata": {},
   "outputs": [],
   "source": [
    "all_id = glob.glob('/data2/wei/vox-320/GT/*')"
   ]
  },
  {
   "cell_type": "code",
   "execution_count": 1,
   "metadata": {},
   "outputs": [],
   "source": [
    "import glob\n",
    "import random\n",
    "count =0\n",
    "all_id = glob.glob('/data2/wei/vox-lm/GT/id*')"
   ]
  },
  {
   "cell_type": "code",
   "execution_count": 3,
   "metadata": {},
   "outputs": [],
   "source": [
    "\n",
    "for p_id in all_id:\n",
    "    flow_78 = glob.glob(p_id + '/*/im4.png')\n",
    "    rand= random.random()\n",
    "    for seq in flow_78:\n",
    "        p_id = p_id.split('/')[-1]\n",
    "        p_seq = seq.split('/')[-2]\n",
    "        if(rand>-0.1):\n",
    "            \n",
    "            with open('vox_3900_train.txt','a+') as f:\n",
    "                f.write(p_id+'/'+p_seq + ' 7 (160,160,3)\\r\\n')\n",
    "        else:    \n",
    "            with open('vox_3900_test.txt','a+') as f:\n",
    "                f.write(p_id+'/'+p_seq + ' 7 (160,160,3)\\r\\n')"
   ]
  },
  {
   "cell_type": "code",
   "execution_count": 38,
   "metadata": {},
   "outputs": [
    {
     "name": "stdout",
     "output_type": "stream",
     "text": [
      "47605\n"
     ]
    }
   ],
   "source": [
    "all_id = glob.glob('/data2/wei/vox-320/GT/*/*/flow.npy')\n",
    "print(len(all_id))"
   ]
  },
  {
   "cell_type": "code",
   "execution_count": 2,
   "metadata": {},
   "outputs": [
    {
     "data": {
      "text/plain": [
       "3964"
      ]
     },
     "execution_count": 2,
     "metadata": {},
     "output_type": "execute_result"
    }
   ],
   "source": [
    "len(all_id)"
   ]
  },
  {
   "cell_type": "code",
   "execution_count": 5,
   "metadata": {},
   "outputs": [],
   "source": [
    "with open('vox_3900_train.txt','a+') as f:\n",
    "#     with open('vox_1100_train.txt','r') as v:\n",
    "#         for lines in v:\n",
    "#             f.write(lines)\n",
    "    with open('vox_ijb_train_ijb.txt','r') as v:\n",
    "        for lines in v:\n",
    "            f.write(lines)      "
   ]
  },
  {
   "cell_type": "code",
   "execution_count": 6,
   "metadata": {},
   "outputs": [],
   "source": [
    "dic1 = {}\n",
    "dic2={}"
   ]
  },
  {
   "cell_type": "code",
   "execution_count": 7,
   "metadata": {},
   "outputs": [],
   "source": [
    "dic1['1'] = 1"
   ]
  },
  {
   "cell_type": "code",
   "execution_count": 8,
   "metadata": {},
   "outputs": [],
   "source": [
    "dic2['2'] = dic1"
   ]
  },
  {
   "cell_type": "code",
   "execution_count": 13,
   "metadata": {},
   "outputs": [],
   "source": [
    "dic1['2']=1"
   ]
  },
  {
   "cell_type": "code",
   "execution_count": 14,
   "metadata": {},
   "outputs": [
    {
     "data": {
      "text/plain": [
       "{'2': {'1': 1, '2': 1}}"
      ]
     },
     "execution_count": 14,
     "metadata": {},
     "output_type": "execute_result"
    }
   ],
   "source": [
    "dic2"
   ]
  },
  {
   "cell_type": "code",
   "execution_count": null,
   "metadata": {},
   "outputs": [],
   "source": []
  }
 ],
 "metadata": {
  "kernelspec": {
   "display_name": "Python [conda env:arc]",
   "language": "python",
   "name": "conda-env-arc-py"
  },
  "language_info": {
   "codemirror_mode": {
    "name": "ipython",
    "version": 3
   },
   "file_extension": ".py",
   "mimetype": "text/x-python",
   "name": "python",
   "nbconvert_exporter": "python",
   "pygments_lexer": "ipython3",
   "version": "3.6.12"
  }
 },
 "nbformat": 4,
 "nbformat_minor": 4
}

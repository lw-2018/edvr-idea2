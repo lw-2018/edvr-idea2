{
 "cells": [
  {
   "cell_type": "code",
   "execution_count": 5,
   "metadata": {
    "jupyter": {
     "source_hidden": true
    }
   },
   "outputs": [],
   "source": [
    "import glob\n",
    "import random"
   ]
  },
  {
   "cell_type": "code",
   "execution_count": 33,
   "metadata": {},
   "outputs": [],
   "source": [
    "all_id = glob.glob('/data2/wei/vox-320/GT/*')"
   ]
  },
  {
   "cell_type": "code",
   "execution_count": 13,
   "metadata": {},
   "outputs": [
    {
     "data": {
      "text/plain": [
       "['', 'data2', 'wei', 'vox-312', 'GT', 'id06757']"
      ]
     },
     "execution_count": 13,
     "metadata": {},
     "output_type": "execute_result"
    }
   ],
   "source": [
    "(all_id[0]).split('/')"
   ]
  },
  {
   "cell_type": "code",
   "execution_count": 34,
   "metadata": {},
   "outputs": [],
   "source": [
    "count =0\n",
    "for p_id in all_id:\n",
    "    flow_78 = glob.glob(p_id + '/*/flow_80.npy')\n",
    "    rand= random.random()\n",
    "    for seq in flow_78:\n",
    "        p_id = p_id.split('/')[-1]\n",
    "        p_seq = seq.split('/')[-2]\n",
    "        if(rand>0.1):\n",
    "            \n",
    "            with open('vox_320_train.txt','a+') as f:\n",
    "                f.write(p_id+'/'+p_seq + ' 7 (320,320,3)\\r\\n')\n",
    "        else:    \n",
    "            with open('vox_320_test.txt','a+') as f:\n",
    "                f.write(p_id+'/'+p_seq + ' 7 (320,320,3)\\r\\n')\n",
    "    count+=1"
   ]
  },
  {
   "cell_type": "code",
   "execution_count": 26,
   "metadata": {},
   "outputs": [
    {
     "name": "stdout",
     "output_type": "stream",
     "text": [
      "0\n"
     ]
    }
   ],
   "source": [
    "all_id = glob.glob('/data2/wei/vox-320/GT/*/*/flow_80.npy')\n",
    "print(len(all_id))"
   ]
  },
  {
   "cell_type": "code",
   "execution_count": null,
   "metadata": {},
   "outputs": [],
   "source": []
  }
 ],
 "metadata": {
  "kernelspec": {
   "display_name": "Python [conda env:arc]",
   "language": "python",
   "name": "conda-env-arc-py"
  },
  "language_info": {
   "codemirror_mode": {
    "name": "ipython",
    "version": 3
   },
   "file_extension": ".py",
   "mimetype": "text/x-python",
   "name": "python",
   "nbconvert_exporter": "python",
   "pygments_lexer": "ipython3",
   "version": "3.6.12"
  }
 },
 "nbformat": 4,
 "nbformat_minor": 4
}

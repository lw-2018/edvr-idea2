{
 "cells": [
  {
   "cell_type": "code",
   "execution_count": 11,
   "metadata": {},
   "outputs": [],
   "source": [
    "import glob\n",
    "import random\n",
    "import os"
   ]
  },
  {
   "cell_type": "code",
   "execution_count": 5,
   "metadata": {},
   "outputs": [],
   "source": [
    "train = []\n",
    "test = []\n",
    "val = []\n",
    "all_id = []"
   ]
  },
  {
   "cell_type": "code",
   "execution_count": null,
   "metadata": {},
   "outputs": [],
   "source": []
  },
  {
   "cell_type": "code",
   "execution_count": 12,
   "metadata": {},
   "outputs": [],
   "source": [
    "count =0\n",
    "all_id = glob.glob('/data2/wei/vox-160-clean/LR/*')\n",
    "for p_id in all_id:\n",
    "    flow_78 = glob.glob(p_id + '/*/im4.png')\n",
    "    rand= random.random()\n",
    "    for seq in flow_78:\n",
    "        p_id = p_id.split('/')[-1]\n",
    "        p_seq = seq.split('/')[-2]\n",
    "        if 'id' in p_id:\n",
    "            if not os.path.exists(seq.replace('LR','GT')):\n",
    "                continue\n",
    "            if(rand<0.8):\n",
    "                with open('vox_ijb_train.txt','a+') as f:\n",
    "                    f.write(p_id+'/'+p_seq + ' 7 (160,160,3)\\r\\n')\n",
    "            elif rand<0.95:    \n",
    "                with open('vox_ijb_test.txt','a+') as f:\n",
    "                    f.write(p_id+'/'+p_seq + ' 7 (160,160,3)\\r\\n')\n",
    "            else:    \n",
    "                with open('vox_ijb_val.txt','a+') as f:\n",
    "                    f.write(p_id+'/'+p_seq + ' 7 (160,160,3)\\r\\n')\n",
    "        else:\n",
    "            if(rand<0.5):\n",
    "                with open('vox_ijb_train.txt','a+') as f:\n",
    "                    f.write(p_id+'/'+p_seq + ' 7 (160,160,3)\\r\\n')\n",
    "                    f.write(p_id+'/'+p_seq + ' 7 (160,160,3)\\r\\n')\n",
    "                    f.write(p_id+'/'+p_seq + ' 7 (160,160,3)\\r\\n')\n",
    "                with open('vox_ijb_train_ijb.txt','a+') as f:\n",
    "                    f.write(p_id+'/'+p_seq + ' 7 (160,160,3)\\r\\n')\n",
    "            elif rand<0.9:    \n",
    "                with open('vox_ijb_test.txt','a+') as f:\n",
    "                    f.write(p_id+'/'+p_seq + ' 7 (160,160,3)\\r\\n')\n",
    "                with open('vox_ijb_test_ijb.txt','a+') as f:\n",
    "                    f.write(p_id+'/'+p_seq + ' 7 (160,160,3)\\r\\n')\n",
    "            else:    \n",
    "                with open('vox_ijb_val.txt','a+') as f:\n",
    "                    f.write(p_id+'/'+p_seq + ' 7 (160,160,3)\\r\\n')\n",
    "                with open('vox_ijb_val_ijb.txt','a+') as f:\n",
    "                    f.write(p_id+'/'+p_seq + ' 7 (160,160,3)\\r\\n')"
   ]
  },
  {
   "cell_type": "code",
   "execution_count": 4,
   "metadata": {},
   "outputs": [],
   "source": [
    "# count =0\n",
    "# all_id = glob.glob('/data2/wei/IJB-160-clean/LR/*')\n",
    "# for p_id in all_id:\n",
    "#     flow_78 = glob.glob(p_id + '/*/im4.png')\n",
    "#     rand= random.random()\n",
    "#     for seq in flow_78:\n",
    "#         p_id = p_id.split('/')[-1]\n",
    "#         p_seq = seq.split('/')[-2]\n",
    "#         if False:\n",
    "            \n",
    "#             with open('IJB_320_train.txt','a+') as f:\n",
    "#                 f.write(p_id+'/'+p_seq + ' 7 (320,320,3)\\r\\n')\n",
    "#         else:    \n",
    "#             with open('IJB_ori_test_clean.txt','a+') as f:\n",
    "#                 f.write(p_id+'/'+p_seq + ' 7 (160,160,3)\\r\\n')"
   ]
  },
  {
   "cell_type": "code",
   "execution_count": null,
   "metadata": {},
   "outputs": [],
   "source": []
  }
 ],
 "metadata": {
  "kernelspec": {
   "display_name": "Python [conda env:arc]",
   "language": "python",
   "name": "conda-env-arc-py"
  },
  "language_info": {
   "codemirror_mode": {
    "name": "ipython",
    "version": 3
   },
   "file_extension": ".py",
   "mimetype": "text/x-python",
   "name": "python",
   "nbconvert_exporter": "python",
   "pygments_lexer": "ipython3",
   "version": "3.6.12"
  }
 },
 "nbformat": 4,
 "nbformat_minor": 4
}

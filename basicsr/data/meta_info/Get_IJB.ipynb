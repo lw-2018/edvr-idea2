{
 "cells": [
  {
   "cell_type": "code",
   "execution_count": 4,
   "metadata": {},
   "outputs": [],
   "source": [
    "import glob\n",
    "import random"
   ]
  },
  {
   "cell_type": "code",
   "execution_count": null,
   "metadata": {},
   "outputs": [],
   "source": []
  },
  {
   "cell_type": "code",
   "execution_count": 6,
   "metadata": {},
   "outputs": [],
   "source": [
    "count =0\n",
    "all_id = glob.glob('/data2/wei/IJB-320/GT/*')\n",
    "for p_id in all_id:\n",
    "    flow_78 = glob.glob(p_id + '/*/im4.png')\n",
    "    rand= random.random()\n",
    "    for seq in flow_78:\n",
    "        p_id = p_id.split('/')[-1]\n",
    "        p_seq = seq.split('/')[-2]\n",
    "        if(rand<0):\n",
    "            \n",
    "            with open('IJB_320_train.txt','a+') as f:\n",
    "                f.write(p_id+'/'+p_seq + ' 7 (320,320,3)\\r\\n')\n",
    "        else:    \n",
    "            with open('IJB_320_test.txt','a+') as f:\n",
    "                f.write(p_id+'/'+p_seq + ' 7 (320,320,3)\\r\\n')"
   ]
  },
  {
   "cell_type": "code",
   "execution_count": null,
   "metadata": {},
   "outputs": [],
   "source": []
  }
 ],
 "metadata": {
  "kernelspec": {
   "display_name": "Python [conda env:arc]",
   "language": "python",
   "name": "conda-env-arc-py"
  },
  "language_info": {
   "codemirror_mode": {
    "name": "ipython",
    "version": 3
   },
   "file_extension": ".py",
   "mimetype": "text/x-python",
   "name": "python",
   "nbconvert_exporter": "python",
   "pygments_lexer": "ipython3",
   "version": "3.6.12"
  }
 },
 "nbformat": 4,
 "nbformat_minor": 4
}

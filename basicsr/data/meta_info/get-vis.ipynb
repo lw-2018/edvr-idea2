{
 "cells": [
  {
   "cell_type": "code",
   "execution_count": 8,
   "metadata": {},
   "outputs": [],
   "source": [
    "import random\n",
    "import shutil\n",
    "\n",
    "# rows = random.sample(range(2000),20)\n",
    "# w=0\n",
    "# with open('YTB-2_test.txt','r') as f:\n",
    "#     for lines in f:\n",
    "#         if w in rows:\n",
    "#             p = lines[:10]\n",
    "#             path_L = '/home/wei/exp/EDVR/datasets/YTB-2/LR/'+p+'/'\n",
    "#             path_G = '/home/wei/exp/EDVR/datasets/YTB-2/GT/'+p+'/'\n",
    "#             path_output_G = '/home/wei/exp/EDVR/results/YTB-vis/visualization/REDS4/'+p +'/GT'\n",
    "#             path_output_L = '/home/wei/exp/EDVR/results/YTB-vis/visualization/REDS4/'+p +'/LR'\n",
    "#             with open('YTB2-vis.txt','a+') as f:\n",
    "#                 f.write(lines)\n",
    "#             shutil.copytree(path_L,path_output_L)\n",
    "#             shutil.copytree(path_G,path_output_G)\n",
    "#         w+=1\n",
    "#         if w >2000:\n",
    "#             break"
   ]
  },
  {
   "cell_type": "code",
   "execution_count": 13,
   "metadata": {},
   "outputs": [
    {
     "name": "stdout",
     "output_type": "stream",
     "text": [
      "00006/0012\n",
      "00011/0029\n",
      "00013/0031\n",
      "00024/0010\n",
      "00024/0034\n",
      "00039/0048\n",
      "00051/0005\n",
      "00052/0205\n",
      "00053/0013\n",
      "00053/0049\n",
      "00067/0051\n",
      "00067/0054\n",
      "00067/0118\n",
      "00068/0038\n",
      "00078/0003\n",
      "00078/0015\n",
      "00080/0007\n",
      "00080/0093\n",
      "00080/0103\n",
      "00086/0117\n"
     ]
    }
   ],
   "source": [
    "with open('3d_vis.txt','r') as f:\n",
    "    for lines in f:\n",
    "        p = lines[:10]\n",
    "        path_L = '/home/wei/exp/EDVR/datasets/YTB-2/LR/'+p+'/'\n",
    "        path_G = '/home/wei/exp/EDVR/datasets/YTB-2/GT/'+p+'/'\n",
    "        path_output_G = '/home/wei/exp/EDVR/results/YTB-vis/visualization/REDS4/'+'/GT'+p[5:10]\n",
    "        path_output_L = '/home/wei/exp/EDVR/results/YTB-vis/visualization/REDS4/'+'/LR'+p[5:10]\n",
    "        shutil.copytree(path_L,path_output_L)\n",
    "        shutil.copytree(path_G,path_output_G)\n",
    "        print(p)"
   ]
  },
  {
   "cell_type": "code",
   "execution_count": 6,
   "metadata": {},
   "outputs": [
    {
     "ename": "NameError",
     "evalue": "name 'vox_448_112' is not defined",
     "output_type": "error",
     "traceback": [
      "\u001b[0;31m---------------------------------------------------------------------------\u001b[0m",
      "\u001b[0;31mNameError\u001b[0m                                 Traceback (most recent call last)",
      "\u001b[0;32m<ipython-input-6-3a0d1471d390>\u001b[0m in \u001b[0;36m<module>\u001b[0;34m\u001b[0m\n\u001b[1;32m     12\u001b[0m     \u001b[0;31m#print(vox_448.mean())\u001b[0m\u001b[0;34m\u001b[0m\u001b[0;34m\u001b[0m\u001b[0;34m\u001b[0m\u001b[0m\n\u001b[1;32m     13\u001b[0m \u001b[0;34m\u001b[0m\u001b[0m\n\u001b[0;32m---> 14\u001b[0;31m     \u001b[0mvox_112\u001b[0m \u001b[0;34m=\u001b[0m \u001b[0mvox_448_112\u001b[0m\u001b[0;34m(\u001b[0m\u001b[0mvox_448\u001b[0m\u001b[0;34m)\u001b[0m\u001b[0;34m\u001b[0m\u001b[0;34m\u001b[0m\u001b[0m\n\u001b[0m\u001b[1;32m     15\u001b[0m     \u001b[0;31m#print(vox_112.mean())\u001b[0m\u001b[0;34m\u001b[0m\u001b[0;34m\u001b[0m\u001b[0;34m\u001b[0m\u001b[0m\n\u001b[1;32m     16\u001b[0m     \u001b[0mnp\u001b[0m\u001b[0;34m.\u001b[0m\u001b[0msave\u001b[0m\u001b[0;34m(\u001b[0m\u001b[0mvox\u001b[0m\u001b[0;34m.\u001b[0m\u001b[0mreplace\u001b[0m\u001b[0;34m(\u001b[0m\u001b[0;34m'flow.npy'\u001b[0m\u001b[0;34m,\u001b[0m\u001b[0;34m'flow_80.npy'\u001b[0m\u001b[0;34m)\u001b[0m\u001b[0;34m,\u001b[0m\u001b[0mvox_112\u001b[0m\u001b[0;34m)\u001b[0m\u001b[0;34m\u001b[0m\u001b[0;34m\u001b[0m\u001b[0m\n",
      "\u001b[0;31mNameError\u001b[0m: name 'vox_448_112' is not defined"
     ]
    }
   ],
   "source": []
  },
  {
   "cell_type": "code",
   "execution_count": null,
   "metadata": {},
   "outputs": [],
   "source": []
  },
  {
   "cell_type": "code",
   "execution_count": 7,
   "metadata": {},
   "outputs": [],
   "source": [
    "def averge_pool_2x2(array):\n",
    "    array = array.reshape(16)\n",
    "    sum = 0\n",
    "    count = 0\n",
    "    #print(array)\n",
    "    for a in array:\n",
    "        if (a!=0):\n",
    "            count+=1\n",
    "            sum += a\n",
    "    #print(sum,count)\n",
    "    if(count==0):\n",
    "        return 0\n",
    "    #print('1')\n",
    "    return np.rint(sum/count)\n",
    "def averge_pool_448x448(array):\n",
    "    matrix_112 = np.zeros((80,80),int)\n",
    "    for i in range(80):\n",
    "        for j in range(80):\n",
    "            matrix_112[i][j] = averge_pool_2x2(array[i*4:i*4+4,j*4:j*4+4])\n",
    "   # matrix_112.transpose(0,2,3,1)\n",
    "    return matrix_112\n",
    "def vox_448_112(array):\n",
    "    array = array.transpose(0,3,1,2)\n",
    "    matrix_112 = np.zeros((7,2,80,80),int)\n",
    "    for i in range(7):\n",
    "        for j in range(2):\n",
    "            matrix_112[i][j] = averge_pool_448x448(array[i][j])\n",
    "    matrix_112 = matrix_112.transpose(0,2,3,1)\n",
    "    return matrix_112"
   ]
  },
  {
   "cell_type": "code",
   "execution_count": 11,
   "metadata": {},
   "outputs": [
    {
     "ename": "KeyboardInterrupt",
     "evalue": "",
     "output_type": "error",
     "traceback": [
      "\u001b[0;31m---------------------------------------------------------------------------\u001b[0m",
      "\u001b[0;31mKeyboardInterrupt\u001b[0m                         Traceback (most recent call last)",
      "\u001b[0;32m<ipython-input-11-b99275dd3dc8>\u001b[0m in \u001b[0;36m<module>\u001b[0;34m\u001b[0m\n\u001b[1;32m     40\u001b[0m     \u001b[0;31m#print(vox_448.mean())\u001b[0m\u001b[0;34m\u001b[0m\u001b[0;34m\u001b[0m\u001b[0;34m\u001b[0m\u001b[0m\n\u001b[1;32m     41\u001b[0m \u001b[0;34m\u001b[0m\u001b[0m\n\u001b[0;32m---> 42\u001b[0;31m     \u001b[0mvox_112\u001b[0m \u001b[0;34m=\u001b[0m \u001b[0mvox_448_112\u001b[0m\u001b[0;34m(\u001b[0m\u001b[0mvox_448\u001b[0m\u001b[0;34m)\u001b[0m\u001b[0;34m\u001b[0m\u001b[0;34m\u001b[0m\u001b[0m\n\u001b[0m\u001b[1;32m     43\u001b[0m     \u001b[0;31m#print(vox_112.mean())\u001b[0m\u001b[0;34m\u001b[0m\u001b[0;34m\u001b[0m\u001b[0;34m\u001b[0m\u001b[0m\n\u001b[1;32m     44\u001b[0m     \u001b[0mnp\u001b[0m\u001b[0;34m.\u001b[0m\u001b[0msave\u001b[0m\u001b[0;34m(\u001b[0m\u001b[0mvox\u001b[0m\u001b[0;34m.\u001b[0m\u001b[0mreplace\u001b[0m\u001b[0;34m(\u001b[0m\u001b[0;34m'vox-320'\u001b[0m\u001b[0;34m,\u001b[0m\u001b[0;34m'vox-160'\u001b[0m\u001b[0;34m)\u001b[0m\u001b[0;34m.\u001b[0m\u001b[0mreplace\u001b[0m\u001b[0;34m(\u001b[0m\u001b[0;34m'flow.npy'\u001b[0m\u001b[0;34m,\u001b[0m\u001b[0;34m'flow_160.npy'\u001b[0m\u001b[0;34m)\u001b[0m\u001b[0;34m,\u001b[0m\u001b[0mvox_112\u001b[0m\u001b[0;34m)\u001b[0m\u001b[0;34m\u001b[0m\u001b[0;34m\u001b[0m\u001b[0m\n",
      "\u001b[0;32m<ipython-input-7-dc06b27f77f5>\u001b[0m in \u001b[0;36mvox_448_112\u001b[0;34m(array)\u001b[0m\n\u001b[1;32m     25\u001b[0m     \u001b[0;32mfor\u001b[0m \u001b[0mi\u001b[0m \u001b[0;32min\u001b[0m \u001b[0mrange\u001b[0m\u001b[0;34m(\u001b[0m\u001b[0;36m7\u001b[0m\u001b[0;34m)\u001b[0m\u001b[0;34m:\u001b[0m\u001b[0;34m\u001b[0m\u001b[0;34m\u001b[0m\u001b[0m\n\u001b[1;32m     26\u001b[0m         \u001b[0;32mfor\u001b[0m \u001b[0mj\u001b[0m \u001b[0;32min\u001b[0m \u001b[0mrange\u001b[0m\u001b[0;34m(\u001b[0m\u001b[0;36m2\u001b[0m\u001b[0;34m)\u001b[0m\u001b[0;34m:\u001b[0m\u001b[0;34m\u001b[0m\u001b[0;34m\u001b[0m\u001b[0m\n\u001b[0;32m---> 27\u001b[0;31m             \u001b[0mmatrix_112\u001b[0m\u001b[0;34m[\u001b[0m\u001b[0mi\u001b[0m\u001b[0;34m]\u001b[0m\u001b[0;34m[\u001b[0m\u001b[0mj\u001b[0m\u001b[0;34m]\u001b[0m \u001b[0;34m=\u001b[0m \u001b[0maverge_pool_448x448\u001b[0m\u001b[0;34m(\u001b[0m\u001b[0marray\u001b[0m\u001b[0;34m[\u001b[0m\u001b[0mi\u001b[0m\u001b[0;34m]\u001b[0m\u001b[0;34m[\u001b[0m\u001b[0mj\u001b[0m\u001b[0;34m]\u001b[0m\u001b[0;34m)\u001b[0m\u001b[0;34m\u001b[0m\u001b[0;34m\u001b[0m\u001b[0m\n\u001b[0m\u001b[1;32m     28\u001b[0m     \u001b[0mmatrix_112\u001b[0m \u001b[0;34m=\u001b[0m \u001b[0mmatrix_112\u001b[0m\u001b[0;34m.\u001b[0m\u001b[0mtranspose\u001b[0m\u001b[0;34m(\u001b[0m\u001b[0;36m0\u001b[0m\u001b[0;34m,\u001b[0m\u001b[0;36m2\u001b[0m\u001b[0;34m,\u001b[0m\u001b[0;36m3\u001b[0m\u001b[0;34m,\u001b[0m\u001b[0;36m1\u001b[0m\u001b[0;34m)\u001b[0m\u001b[0;34m\u001b[0m\u001b[0;34m\u001b[0m\u001b[0m\n\u001b[1;32m     29\u001b[0m     \u001b[0;32mreturn\u001b[0m \u001b[0mmatrix_112\u001b[0m\u001b[0;34m\u001b[0m\u001b[0;34m\u001b[0m\u001b[0m\n",
      "\u001b[0;32m<ipython-input-7-dc06b27f77f5>\u001b[0m in \u001b[0;36maverge_pool_448x448\u001b[0;34m(array)\u001b[0m\n\u001b[1;32m     17\u001b[0m     \u001b[0;32mfor\u001b[0m \u001b[0mi\u001b[0m \u001b[0;32min\u001b[0m \u001b[0mrange\u001b[0m\u001b[0;34m(\u001b[0m\u001b[0;36m80\u001b[0m\u001b[0;34m)\u001b[0m\u001b[0;34m:\u001b[0m\u001b[0;34m\u001b[0m\u001b[0;34m\u001b[0m\u001b[0m\n\u001b[1;32m     18\u001b[0m         \u001b[0;32mfor\u001b[0m \u001b[0mj\u001b[0m \u001b[0;32min\u001b[0m \u001b[0mrange\u001b[0m\u001b[0;34m(\u001b[0m\u001b[0;36m80\u001b[0m\u001b[0;34m)\u001b[0m\u001b[0;34m:\u001b[0m\u001b[0;34m\u001b[0m\u001b[0;34m\u001b[0m\u001b[0m\n\u001b[0;32m---> 19\u001b[0;31m             \u001b[0mmatrix_112\u001b[0m\u001b[0;34m[\u001b[0m\u001b[0mi\u001b[0m\u001b[0;34m]\u001b[0m\u001b[0;34m[\u001b[0m\u001b[0mj\u001b[0m\u001b[0;34m]\u001b[0m \u001b[0;34m=\u001b[0m \u001b[0maverge_pool_2x2\u001b[0m\u001b[0;34m(\u001b[0m\u001b[0marray\u001b[0m\u001b[0;34m[\u001b[0m\u001b[0mi\u001b[0m\u001b[0;34m*\u001b[0m\u001b[0;36m4\u001b[0m\u001b[0;34m:\u001b[0m\u001b[0mi\u001b[0m\u001b[0;34m*\u001b[0m\u001b[0;36m4\u001b[0m\u001b[0;34m+\u001b[0m\u001b[0;36m4\u001b[0m\u001b[0;34m,\u001b[0m\u001b[0mj\u001b[0m\u001b[0;34m*\u001b[0m\u001b[0;36m4\u001b[0m\u001b[0;34m:\u001b[0m\u001b[0mj\u001b[0m\u001b[0;34m*\u001b[0m\u001b[0;36m4\u001b[0m\u001b[0;34m+\u001b[0m\u001b[0;36m4\u001b[0m\u001b[0;34m]\u001b[0m\u001b[0;34m)\u001b[0m\u001b[0;34m\u001b[0m\u001b[0;34m\u001b[0m\u001b[0m\n\u001b[0m\u001b[1;32m     20\u001b[0m    \u001b[0;31m# matrix_112.transpose(0,2,3,1)\u001b[0m\u001b[0;34m\u001b[0m\u001b[0;34m\u001b[0m\u001b[0;34m\u001b[0m\u001b[0m\n\u001b[1;32m     21\u001b[0m     \u001b[0;32mreturn\u001b[0m \u001b[0mmatrix_112\u001b[0m\u001b[0;34m\u001b[0m\u001b[0;34m\u001b[0m\u001b[0m\n",
      "\u001b[0;32m<ipython-input-11-b99275dd3dc8>\u001b[0m in \u001b[0;36maverge_pool_2x2\u001b[0;34m(array)\u001b[0m\n\u001b[1;32m      5\u001b[0m     \u001b[0;31m#print(array)\u001b[0m\u001b[0;34m\u001b[0m\u001b[0;34m\u001b[0m\u001b[0;34m\u001b[0m\u001b[0m\n\u001b[1;32m      6\u001b[0m     \u001b[0;32mfor\u001b[0m \u001b[0ma\u001b[0m \u001b[0;32min\u001b[0m \u001b[0marray\u001b[0m\u001b[0;34m:\u001b[0m\u001b[0;34m\u001b[0m\u001b[0;34m\u001b[0m\u001b[0m\n\u001b[0;32m----> 7\u001b[0;31m         \u001b[0;32mif\u001b[0m \u001b[0;34m(\u001b[0m\u001b[0ma\u001b[0m\u001b[0;34m!=\u001b[0m\u001b[0;36m0\u001b[0m\u001b[0;34m)\u001b[0m\u001b[0;34m:\u001b[0m\u001b[0;34m\u001b[0m\u001b[0;34m\u001b[0m\u001b[0m\n\u001b[0m\u001b[1;32m      8\u001b[0m             \u001b[0mcount\u001b[0m\u001b[0;34m+=\u001b[0m\u001b[0;36m1\u001b[0m\u001b[0;34m\u001b[0m\u001b[0;34m\u001b[0m\u001b[0m\n\u001b[1;32m      9\u001b[0m             \u001b[0msum\u001b[0m \u001b[0;34m+=\u001b[0m \u001b[0ma\u001b[0m\u001b[0;34m\u001b[0m\u001b[0;34m\u001b[0m\u001b[0m\n",
      "\u001b[0;31mKeyboardInterrupt\u001b[0m: "
     ]
    }
   ],
   "source": [
    "def averge_pool_2x2(array):\n",
    "    array = array.reshape(-1)\n",
    "    sum = 0\n",
    "    count = 0\n",
    "    #print(array)\n",
    "    for a in array:\n",
    "        if (a!=0):\n",
    "            count+=1\n",
    "            sum += a\n",
    "    #print(sum,count)\n",
    "    if(count==0):\n",
    "        return 0\n",
    "    #print('1')\n",
    "    return np.rint(sum/count)\n",
    "def averge_pool_320x320(array):\n",
    "    matrix_160 = np.zeros((160,160),int)\n",
    "    for i in range(160):\n",
    "        for j in range(160):\n",
    "            matrix_160[i][j] = averge_pool_2x2(array[i*2:i*2+2,j*2:j*2+2])\n",
    "   # matrix_112.transpose(0,2,3,1)\n",
    "    return matrix_160\n",
    "def vox_320_160(array):\n",
    "    array = array.transpose(0,3,1,2)\n",
    "    matrix_160 = np.zeros((7,2,160,160),int)\n",
    "    for i in range(7):\n",
    "        for j in range(2):\n",
    "            matrix_112[i][j] = averge_pool_320x320(array[i][j])\n",
    "    matrix_160 = matrix_160.transpose(0,2,3,1)\n",
    "    return matrix_160\n",
    "\n",
    "\n",
    "vox_npy = glob.glob('/data2/wei/vox-320/*/*/*/flow.npy')\n",
    "count = 0\n",
    "for vox in vox_npy[10000:]:\n",
    "    if os.path.exists(vox.replace('vox-320','vox-160').replace('flow.npy','flow_160.npy')):\n",
    "        continue\n",
    "    count+=1\n",
    "    vox_448 = np.load(vox)\n",
    "    #vox_448 = vox_448/4\n",
    "    #print(vox_448.mean())\n",
    "\n",
    "    vox_112 = vox_448_112(vox_448)\n",
    "    #print(vox_112.mean())\n",
    "    np.save(vox.replace('vox-320','vox-160').replace('flow.npy','flow_160.npy'),vox_112)\n",
    "    if(count%100 == 0):\n",
    "        print(count)"
   ]
  },
  {
   "cell_type": "code",
   "execution_count": null,
   "metadata": {},
   "outputs": [],
   "source": []
  }
 ],
 "metadata": {
  "kernelspec": {
   "display_name": "Python 3",
   "language": "python",
   "name": "python3"
  },
  "language_info": {
   "codemirror_mode": {
    "name": "ipython",
    "version": 3
   },
   "file_extension": ".py",
   "mimetype": "text/x-python",
   "name": "python",
   "nbconvert_exporter": "python",
   "pygments_lexer": "ipython3",
   "version": "3.8.3"
  }
 },
 "nbformat": 4,
 "nbformat_minor": 4
}

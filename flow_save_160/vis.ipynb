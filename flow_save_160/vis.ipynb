{
 "cells": [
  {
   "cell_type": "code",
   "execution_count": 330,
   "metadata": {},
   "outputs": [],
   "source": [
    "import numpy as np\n",
    "import cv2\n",
    "def get_mask(mask, pic_index):\n",
    "    hsv = np.zeros((160, 160, 3), np.uint8)\n",
    "    mask = mask [0,pic_index]\n",
    "    mask = mask.mean(axis=0)\n",
    "    mask = mask.mean(axis=0)\n",
    "    mag, ang = cv2.cartToPolar(mask,mask)\n",
    "    hsv[...,0] = ang*180/np.pi/2\n",
    "   # hsv[...,0] = cv2.normalize(mask,None,0,255,cv2.NORM_MINMAX)\n",
    "   # hsv[...,1] = cv2.normalize(mask,None,0,255,cv2.NORM_MINMAX)\n",
    "    hsv[...,1] = cv2.normalize(mask,None,0,255,cv2.NORM_MINMAX)\n",
    "    hsv[...,2] = 255\n",
    "    bgr = cv2.cvtColor(hsv,cv2.COLOR_HSV2BGR)\n",
    "    cv2.imwrite('mask.png',bgr)\n",
    "def get_flow(flow,pic_index):\n",
    "    flow = flow [0,pic_index,0]\n",
    "    #flow = flow.mean(axis=0)\n",
    "    flow = flow.reshape(8,18,160,160)\n",
    "    flow = flow.mean(axis=0)\n",
    "#     flow_x = flow[::2,:,:].mean(axis=0)\n",
    "#     flow_y = flow[1::2,:,:].mean(axis=0)\n",
    "    flow_x = flow[0]\n",
    "    flow_y = flow[1]\n",
    "    h, w = flow_x.shape[:2]\n",
    "    hsv = np.zeros((h, w, 3), np.uint8)\n",
    "    mag, ang = cv2.cartToPolar(flow_y,flow_x)\n",
    "    hsv[...,0] = ang*180/np.pi/2\n",
    "    hsv[...,1] = cv2.normalize(mag,None,0,255,cv2.NORM_MINMAX)\n",
    "    # flownet是将V赋值为255, 此函数遵循flownet，饱和度S代表像素位移的大小，亮度都为最大，便于观看\n",
    "    # 也有的光流可视化讲s赋值为255，亮度代表像素位移的大小，整个图片会很暗，很少这样用\n",
    "    hsv[...,2] = 255\n",
    "    bgr = cv2.cvtColor(hsv,cv2.COLOR_HSV2BGR)\n",
    "    cv2.imwrite('flow.png',bgr)\n",
    "    print(flow_x.mean(),flow_y.mean())\n",
    "def get_gt(flow,pic_index):\n",
    "    flow = flow[pic_index]\n",
    "\n",
    "#     flow_x = flow[::2,:,:].mean(axis=0)\n",
    "#     flow_y = flow[1::2,:,:].mean(axis=0)\n",
    "    flow_x = flow[...,0].astype('float')\n",
    "    flow_y = flow[...,1].astype('float')\n",
    "    print(flow_x.shape)\n",
    "    print(flow_y.shape)\n",
    "    h, w = flow_x.shape[:2]\n",
    "    hsv = np.zeros((h, w, 3), np.uint8)\n",
    "    \n",
    "    mag, ang = cv2.cartToPolar(flow_y,flow_x)\n",
    "    hsv[...,0] = ang*180/np.pi/2\n",
    "    hsv[...,1] = cv2.normalize(mag,None,0,255,cv2.NORM_MINMAX)\n",
    "    # flownet是将V赋值为255, 此函数遵循flownet，饱和度S代表像素位移的大小，亮度都为最大，便于观看\n",
    "    # 也有的光流可视化讲s赋值为255，亮度代表像素位移的大小，整个图片会很暗，很少这样用\n",
    "    hsv[...,2] = 255\n",
    "    bgr = cv2.cvtColor(hsv,cv2.COLOR_HSV2BGR)\n",
    "    cv2.imwrite('gt.png',bgr)\n",
    "    print(flow_x.mean(),flow_y.mean())"
   ]
  },
  {
   "cell_type": "code",
   "execution_count": 342,
   "metadata": {},
   "outputs": [],
   "source": [
    "flow = np.load('offset.npy')\n",
    "mask = np.load('mask.npy')\n",
    "#gt = np.load('/data2/wei/vox-160/GT/id06060/lwF1jB7DnMo/flow_160.npy')\n",
    "\n",
    "#gt = np.load('/data2/wei/vox-160/GT/id00060/jKqs7j3iRxo/flow_160.npy')\n",
    "\n",
    "gt = np.load('/data2/wei/vox-160/GT/id00741/_672LB5TsX4/flow_160.npy')\n",
    "#gt = np.load('/data2/wei/vox-160/GT/id00741/8XrTdMGunzg/flow_160.npy')\n"
   ]
  },
  {
   "cell_type": "code",
   "execution_count": 343,
   "metadata": {},
   "outputs": [
    {
     "name": "stdout",
     "output_type": "stream",
     "text": [
      "1.4681131 -1.3879445\n",
      "(160, 160)\n",
      "(160, 160)\n",
      "-0.55443359375 0.33716796875\n"
     ]
    }
   ],
   "source": [
    "get_flow(flow,5)\n",
    "get_gt(gt/2.0,5)\n",
    "get_mask(mask,5)"
   ]
  },
  {
   "cell_type": "code",
   "execution_count": 344,
   "metadata": {},
   "outputs": [
    {
     "data": {
      "text/plain": [
       "(1, 7, 1, 72, 160, 160)"
      ]
     },
     "execution_count": 344,
     "metadata": {},
     "output_type": "execute_result"
    }
   ],
   "source": [
    "mask.shape"
   ]
  },
  {
   "cell_type": "code",
   "execution_count": 273,
   "metadata": {},
   "outputs": [
    {
     "data": {
      "text/plain": [
       "18.357046"
      ]
     },
     "execution_count": 273,
     "metadata": {},
     "output_type": "execute_result"
    }
   ],
   "source": [
    "flow = abs(flow)\n",
    "flow.max()"
   ]
  },
  {
   "cell_type": "code",
   "execution_count": 323,
   "metadata": {},
   "outputs": [
    {
     "data": {
      "text/plain": [
       "(1, 7, 2, 144, 160, 160)"
      ]
     },
     "execution_count": 323,
     "metadata": {},
     "output_type": "execute_result"
    }
   ],
   "source": [
    "flow.shape"
   ]
  },
  {
   "cell_type": "code",
   "execution_count": 274,
   "metadata": {},
   "outputs": [
    {
     "data": {
      "text/plain": [
       "(1, 7, 2, 144, 160, 160)"
      ]
     },
     "execution_count": 274,
     "metadata": {},
     "output_type": "execute_result"
    }
   ],
   "source": [
    "flow.shape"
   ]
  },
  {
   "cell_type": "code",
   "execution_count": null,
   "metadata": {},
   "outputs": [],
   "source": []
  }
 ],
 "metadata": {
  "kernelspec": {
   "display_name": "Python [conda env:arc]",
   "language": "python",
   "name": "conda-env-arc-py"
  },
  "language_info": {
   "codemirror_mode": {
    "name": "ipython",
    "version": 3
   },
   "file_extension": ".py",
   "mimetype": "text/x-python",
   "name": "python",
   "nbconvert_exporter": "python",
   "pygments_lexer": "ipython3",
   "version": "3.6.12"
  }
 },
 "nbformat": 4,
 "nbformat_minor": 4
}

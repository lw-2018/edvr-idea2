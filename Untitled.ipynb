{
 "cells": [
  {
   "cell_type": "code",
   "execution_count": 1,
   "metadata": {},
   "outputs": [],
   "source": [
    "import random\n",
    "import glob\n",
    "import torch"
   ]
  },
  {
   "cell_type": "code",
   "execution_count": 8,
   "metadata": {},
   "outputs": [
    {
     "ename": "RuntimeError",
     "evalue": "invalid argument 0: Sizes of tensors must match except in dimension 1. Got 1 and 2 in dimension 0 at /pytorch/aten/src/TH/generic/THTensorMath.cpp:3616",
     "output_type": "error",
     "traceback": [
      "\u001b[0;31m---------------------------------------------------------------------------\u001b[0m",
      "\u001b[0;31mRuntimeError\u001b[0m                              Traceback (most recent call last)",
      "\u001b[0;32m<ipython-input-8-8d1adb1d0849>\u001b[0m in \u001b[0;36m<module>\u001b[0;34m\u001b[0m\n\u001b[1;32m      1\u001b[0m \u001b[0ma\u001b[0m \u001b[0;34m=\u001b[0m \u001b[0mtorch\u001b[0m\u001b[0;34m.\u001b[0m\u001b[0marange\u001b[0m\u001b[0;34m(\u001b[0m\u001b[0;36m16\u001b[0m\u001b[0;34m)\u001b[0m\u001b[0;34m.\u001b[0m\u001b[0mreshape\u001b[0m\u001b[0;34m(\u001b[0m\u001b[0;36m1\u001b[0m\u001b[0;34m,\u001b[0m\u001b[0;36m4\u001b[0m\u001b[0;34m,\u001b[0m\u001b[0;36m4\u001b[0m\u001b[0;34m)\u001b[0m\u001b[0;34m\u001b[0m\u001b[0;34m\u001b[0m\u001b[0m\n\u001b[1;32m      2\u001b[0m \u001b[0mb\u001b[0m \u001b[0;34m=\u001b[0m \u001b[0mtorch\u001b[0m\u001b[0;34m.\u001b[0m\u001b[0marange\u001b[0m\u001b[0;34m(\u001b[0m\u001b[0;36m32\u001b[0m\u001b[0;34m)\u001b[0m\u001b[0;34m.\u001b[0m\u001b[0mreshape\u001b[0m\u001b[0;34m(\u001b[0m\u001b[0;36m2\u001b[0m\u001b[0;34m,\u001b[0m\u001b[0;36m4\u001b[0m\u001b[0;34m,\u001b[0m\u001b[0;36m4\u001b[0m\u001b[0;34m)\u001b[0m\u001b[0;34m\u001b[0m\u001b[0;34m\u001b[0m\u001b[0m\n\u001b[0;32m----> 3\u001b[0;31m \u001b[0mtorch\u001b[0m\u001b[0;34m.\u001b[0m\u001b[0mcat\u001b[0m\u001b[0;34m(\u001b[0m\u001b[0;34m[\u001b[0m\u001b[0ma\u001b[0m\u001b[0;34m,\u001b[0m\u001b[0mb\u001b[0m\u001b[0;34m]\u001b[0m\u001b[0;34m,\u001b[0m\u001b[0mdim\u001b[0m\u001b[0;34m=\u001b[0m\u001b[0;36m1\u001b[0m\u001b[0;34m)\u001b[0m\u001b[0;34m.\u001b[0m\u001b[0mshape\u001b[0m\u001b[0;34m\u001b[0m\u001b[0;34m\u001b[0m\u001b[0m\n\u001b[0m",
      "\u001b[0;31mRuntimeError\u001b[0m: invalid argument 0: Sizes of tensors must match except in dimension 1. Got 1 and 2 in dimension 0 at /pytorch/aten/src/TH/generic/THTensorMath.cpp:3616"
     ]
    }
   ],
   "source": [
    "a = torch.arange(16).reshape(1,4,4)\n",
    "b = torch.arange(32).reshape(2,4,4)\n",
    "torch.cat([a,b],dim=1).shape"
   ]
  },
  {
   "cell_type": "code",
   "execution_count": 13,
   "metadata": {},
   "outputs": [],
   "source": [
    "from torch.nn import Linear, Conv2d, BatchNorm1d, BatchNorm2d, PReLU, ReLU, Sigmoid, Dropout2d, Dropout, AvgPool2d, MaxPool2d, AdaptiveAvgPool2d, Sequential, Module, Parameter"
   ]
  },
  {
   "cell_type": "code",
   "execution_count": 14,
   "metadata": {},
   "outputs": [],
   "source": [
    "input_layer = Sequential(Conv2d(3, 64, (3, 3), 1, 1 ,bias=False), \n",
    "                              BatchNorm2d(64), \n",
    "                              PReLU(64))"
   ]
  },
  {
   "cell_type": "code",
   "execution_count": 23,
   "metadata": {},
   "outputs": [],
   "source": [
    "a=torch.ones(10).reshape(2,5)\n",
    "b=torch.ones(10).reshape(2,5)"
   ]
  },
  {
   "cell_type": "code",
   "execution_count": 1,
   "metadata": {},
   "outputs": [],
   "source": [
    "import numpy as np\n",
    "fc_weight = np.load('fc_weights/weight.npy')"
   ]
  },
  {
   "cell_type": "code",
   "execution_count": 6,
   "metadata": {},
   "outputs": [
    {
     "data": {
      "text/plain": [
       "(512, 23993)"
      ]
     },
     "execution_count": 6,
     "metadata": {},
     "output_type": "execute_result"
    }
   ],
   "source": [
    "np.transpose(fc_weight,[1,0]).shape"
   ]
  },
  {
   "cell_type": "code",
   "execution_count": 34,
   "metadata": {},
   "outputs": [],
   "source": [
    "#00001/0001 7 (160,160,3)\n",
    "\n",
    "all_sample = glob.glob('./datasets/3d/*')\n",
    "\n",
    "a = random.sample(range(len(all_sample)),1000)\n",
    "\n",
    "for i in range(len(all_sample)):\n",
    "    all_seq = glob.glob(all_sample[i]+'/*')\n",
    "    clip = all_sample[i].split('/')[-1]\n",
    "    if(i in a):\n",
    "        with open('3d_test.txt','a+') as f:\n",
    "            for seq in all_seq:\n",
    "                se = seq.split('/')[-1]\n",
    "                f.write(clip+'/'+se+' 7 (160,160,3)\\r\\n')\n",
    "            \n",
    "    else:\n",
    "        with open('3d_train.txt','a+') as f:\n",
    "            for seq in all_seq:\n",
    "                se = seq.split('/')[-1]\n",
    "                f.write(clip+'/'+se+' 7 (160,160,3)\\r\\n')\n",
    "\n",
    "        "
   ]
  },
  {
   "cell_type": "code",
   "execution_count": 38,
   "metadata": {},
   "outputs": [],
   "source": [
    "\n",
    "i=0\n",
    "with open('3d_test.txt','r') as f:\n",
    "    for line in f:\n",
    "        i+=1\n",
    "        if(i%20==0):\n",
    "            with open('3d_val.txt','a+') as t:\n",
    "                t.write(line)"
   ]
  },
  {
   "cell_type": "code",
   "execution_count": 26,
   "metadata": {},
   "outputs": [],
   "source": [
    "all_sample = glob.glob('./3d/*')"
   ]
  },
  {
   "cell_type": "code",
   "execution_count": 27,
   "metadata": {},
   "outputs": [
    {
     "data": {
      "text/plain": [
       "1932"
      ]
     },
     "execution_count": 27,
     "metadata": {},
     "output_type": "execute_result"
    }
   ],
   "source": [
    "len(all_sample)"
   ]
  },
  {
   "cell_type": "code",
   "execution_count": 32,
   "metadata": {},
   "outputs": [
    {
     "data": {
      "text/plain": [
       "3402"
      ]
     },
     "execution_count": 32,
     "metadata": {},
     "output_type": "execute_result"
    }
   ],
   "source": [
    "len(all_sample)"
   ]
  },
  {
   "cell_type": "code",
   "execution_count": 39,
   "metadata": {},
   "outputs": [
    {
     "data": {
      "text/plain": [
       "1"
      ]
     },
     "execution_count": 39,
     "metadata": {},
     "output_type": "execute_result"
    }
   ],
   "source": [
    "1"
   ]
  },
  {
   "cell_type": "code",
   "execution_count": 3,
   "metadata": {},
   "outputs": [],
   "source": [
    "import numpy as np\n",
    "a=np.load('a.npy',allow_pickle=True)\n",
    "a=a.tolist()"
   ]
  },
  {
   "cell_type": "code",
   "execution_count": 13,
   "metadata": {},
   "outputs": [],
   "source": [
    "w = np.array(a)"
   ]
  },
  {
   "cell_type": "code",
   "execution_count": 21,
   "metadata": {},
   "outputs": [
    {
     "data": {
      "text/plain": [
       "torch.Size([16, 144, 40, 40])"
      ]
     },
     "execution_count": 21,
     "metadata": {},
     "output_type": "execute_result"
    }
   ],
   "source": [
    "w[0][3].shape"
   ]
  },
  {
   "cell_type": "code",
   "execution_count": 35,
   "metadata": {},
   "outputs": [],
   "source": [
    "import glob"
   ]
  },
  {
   "cell_type": "code",
   "execution_count": 38,
   "metadata": {},
   "outputs": [],
   "source": [
    "number = glob.glob('/data/vox/*/*/*/*')"
   ]
  },
  {
   "cell_type": "code",
   "execution_count": 39,
   "metadata": {},
   "outputs": [
    {
     "data": {
      "text/plain": [
       "19543468"
      ]
     },
     "execution_count": 39,
     "metadata": {},
     "output_type": "execute_result"
    }
   ],
   "source": [
    "len(number)"
   ]
  },
  {
   "cell_type": "code",
   "execution_count": 40,
   "metadata": {},
   "outputs": [],
   "source": [
    "w = open('12.txt','w')"
   ]
  },
  {
   "cell_type": "code",
   "execution_count": 42,
   "metadata": {},
   "outputs": [
    {
     "data": {
      "text/plain": [
       "1"
      ]
     },
     "execution_count": 42,
     "metadata": {},
     "output_type": "execute_result"
    }
   ],
   "source": [
    "w.write('1')"
   ]
  },
  {
   "cell_type": "code",
   "execution_count": 43,
   "metadata": {},
   "outputs": [],
   "source": [
    "w.close()"
   ]
  },
  {
   "cell_type": "code",
   "execution_count": 44,
   "metadata": {},
   "outputs": [],
   "source": [
    "w = open('12.txt','r')"
   ]
  },
  {
   "cell_type": "code",
   "execution_count": 45,
   "metadata": {},
   "outputs": [],
   "source": [
    "e = w.readlines()"
   ]
  },
  {
   "cell_type": "code",
   "execution_count": 46,
   "metadata": {},
   "outputs": [
    {
     "data": {
      "text/plain": [
       "['1']"
      ]
     },
     "execution_count": 46,
     "metadata": {},
     "output_type": "execute_result"
    }
   ],
   "source": [
    "e"
   ]
  },
  {
   "cell_type": "code",
   "execution_count": 1,
   "metadata": {},
   "outputs": [],
   "source": [
    "import numpy as np\n"
   ]
  },
  {
   "cell_type": "code",
   "execution_count": 5,
   "metadata": {},
   "outputs": [],
   "source": [
    "w = np.load('a.npy',allow_pickle=True)"
   ]
  },
  {
   "cell_type": "code",
   "execution_count": 20,
   "metadata": {},
   "outputs": [
    {
     "data": {
      "text/plain": [
       "torch.Size([16, 144, 10, 10])"
      ]
     },
     "execution_count": 20,
     "metadata": {},
     "output_type": "execute_result"
    }
   ],
   "source": [
    "w[0][0].shape"
   ]
  },
  {
   "cell_type": "code",
   "execution_count": 1,
   "metadata": {},
   "outputs": [],
   "source": [
    "import torch\n",
    "\n",
    "pthfile = 'arcfacemodel/model_ir_se50.pth' #faster_rcnn_ckpt.pth\n",
    "net = torch.load(pthfile) "
   ]
  },
  {
   "cell_type": "code",
   "execution_count": 5,
   "metadata": {},
   "outputs": [
    {
     "ename": "KeyError",
     "evalue": "'model'",
     "output_type": "error",
     "traceback": [
      "\u001b[0;31m---------------------------------------------------------------------------\u001b[0m",
      "\u001b[0;31mKeyError\u001b[0m                                  Traceback (most recent call last)",
      "\u001b[0;32m<ipython-input-5-db30e9b4f940>\u001b[0m in \u001b[0;36m<module>\u001b[0;34m\u001b[0m\n\u001b[0;32m----> 1\u001b[0;31m \u001b[0;32mfor\u001b[0m \u001b[0mkey\u001b[0m\u001b[0;34m,\u001b[0m\u001b[0mvalue\u001b[0m \u001b[0;32min\u001b[0m \u001b[0mnet\u001b[0m\u001b[0;34m[\u001b[0m\u001b[0;34m\"model\"\u001b[0m\u001b[0;34m]\u001b[0m\u001b[0;34m.\u001b[0m\u001b[0mitems\u001b[0m\u001b[0;34m(\u001b[0m\u001b[0;34m)\u001b[0m\u001b[0;34m:\u001b[0m\u001b[0;34m\u001b[0m\u001b[0;34m\u001b[0m\u001b[0m\n\u001b[0m\u001b[1;32m      2\u001b[0m     \u001b[0mprint\u001b[0m\u001b[0;34m(\u001b[0m\u001b[0mkey\u001b[0m\u001b[0;34m,\u001b[0m\u001b[0mvalue\u001b[0m\u001b[0;34m.\u001b[0m\u001b[0msize\u001b[0m\u001b[0;34m(\u001b[0m\u001b[0;34m)\u001b[0m\u001b[0;34m,\u001b[0m\u001b[0msep\u001b[0m\u001b[0;34m=\u001b[0m\u001b[0;34m\" \"\u001b[0m\u001b[0;34m)\u001b[0m\u001b[0;34m\u001b[0m\u001b[0;34m\u001b[0m\u001b[0m\n",
      "\u001b[0;31mKeyError\u001b[0m: 'model'"
     ]
    }
   ],
   "source": [
    "for key,value in net[\"model\"].items():\n",
    "    print(key,value.size(),sep=\" \")"
   ]
  },
  {
   "cell_type": "code",
   "execution_count": 7,
   "metadata": {},
   "outputs": [
    {
     "data": {
      "text/plain": [
       "343"
      ]
     },
     "execution_count": 7,
     "metadata": {},
     "output_type": "execute_result"
    }
   ],
   "source": [
    "load_pth_name= '/home/chen/.cache/torch/checkpoints/resnet50-19c8e357.pth'\n",
    "        pretrain_dict = torch.load( load_pth_name,map_location=lambda storage, loc: storage)\n",
    "        # conv1_weight_new=np.zeros( (64,5,7,7) )\n",
    "        # conv1_weight_new[:,:3,:,:]=pretrain_dict['conv1.weight'].cpu().data\n",
    "        # pretrain_dict['conv1.weight']=torch.from_numpy(conv1_weight_new  )\n",
    "        state_dict = model.state_dict()\n",
    "        model_dict = state_dict\n",
    "        for k, v in pretrain_dict.items():\n",
    "            # kk='backbone.'+k\n",
    "            kk = k\n",
    "            if kk in state_dict:\n",
    "                model_dict[kk] = v\n",
    "        state_dict.update(model_dict)\n",
    "        model.load_state_dict(state_dict)"
   ]
  },
  {
   "cell_type": "code",
   "execution_count": 8,
   "metadata": {},
   "outputs": [
    {
     "name": "stdout",
     "output_type": "stream",
     "text": [
      "input_layer.0.weight\n",
      "input_layer.1.weight\n",
      "input_layer.1.bias\n",
      "input_layer.1.running_mean\n",
      "input_layer.1.running_var\n",
      "input_layer.2.weight\n",
      "output_layer.0.weight\n",
      "output_layer.0.bias\n",
      "output_layer.0.running_mean\n",
      "output_layer.0.running_var\n",
      "output_layer.3.weight\n",
      "output_layer.3.bias\n",
      "output_layer.4.weight\n",
      "output_layer.4.bias\n",
      "output_layer.4.running_mean\n",
      "output_layer.4.running_var\n",
      "body.0.res_layer.0.weight\n",
      "body.0.res_layer.0.bias\n",
      "body.0.res_layer.0.running_mean\n",
      "body.0.res_layer.0.running_var\n",
      "body.0.res_layer.1.weight\n",
      "body.0.res_layer.2.weight\n",
      "body.0.res_layer.3.weight\n",
      "body.0.res_layer.4.weight\n",
      "body.0.res_layer.4.bias\n",
      "body.0.res_layer.4.running_mean\n",
      "body.0.res_layer.4.running_var\n",
      "body.0.res_layer.5.fc1.weight\n",
      "body.0.res_layer.5.fc2.weight\n",
      "body.1.res_layer.0.weight\n",
      "body.1.res_layer.0.bias\n",
      "body.1.res_layer.0.running_mean\n",
      "body.1.res_layer.0.running_var\n",
      "body.1.res_layer.1.weight\n",
      "body.1.res_layer.2.weight\n",
      "body.1.res_layer.3.weight\n",
      "body.1.res_layer.4.weight\n",
      "body.1.res_layer.4.bias\n",
      "body.1.res_layer.4.running_mean\n",
      "body.1.res_layer.4.running_var\n",
      "body.1.res_layer.5.fc1.weight\n",
      "body.1.res_layer.5.fc2.weight\n",
      "body.2.res_layer.0.weight\n",
      "body.2.res_layer.0.bias\n",
      "body.2.res_layer.0.running_mean\n",
      "body.2.res_layer.0.running_var\n",
      "body.2.res_layer.1.weight\n",
      "body.2.res_layer.2.weight\n",
      "body.2.res_layer.3.weight\n",
      "body.2.res_layer.4.weight\n",
      "body.2.res_layer.4.bias\n",
      "body.2.res_layer.4.running_mean\n",
      "body.2.res_layer.4.running_var\n",
      "body.2.res_layer.5.fc1.weight\n",
      "body.2.res_layer.5.fc2.weight\n",
      "body.3.shortcut_layer.0.weight\n",
      "body.3.shortcut_layer.1.weight\n",
      "body.3.shortcut_layer.1.bias\n",
      "body.3.shortcut_layer.1.running_mean\n",
      "body.3.shortcut_layer.1.running_var\n",
      "body.3.res_layer.0.weight\n",
      "body.3.res_layer.0.bias\n",
      "body.3.res_layer.0.running_mean\n",
      "body.3.res_layer.0.running_var\n",
      "body.3.res_layer.1.weight\n",
      "body.3.res_layer.2.weight\n",
      "body.3.res_layer.3.weight\n",
      "body.3.res_layer.4.weight\n",
      "body.3.res_layer.4.bias\n",
      "body.3.res_layer.4.running_mean\n",
      "body.3.res_layer.4.running_var\n",
      "body.3.res_layer.5.fc1.weight\n",
      "body.3.res_layer.5.fc2.weight\n",
      "body.4.res_layer.0.weight\n",
      "body.4.res_layer.0.bias\n",
      "body.4.res_layer.0.running_mean\n",
      "body.4.res_layer.0.running_var\n",
      "body.4.res_layer.1.weight\n",
      "body.4.res_layer.2.weight\n",
      "body.4.res_layer.3.weight\n",
      "body.4.res_layer.4.weight\n",
      "body.4.res_layer.4.bias\n",
      "body.4.res_layer.4.running_mean\n",
      "body.4.res_layer.4.running_var\n",
      "body.4.res_layer.5.fc1.weight\n",
      "body.4.res_layer.5.fc2.weight\n",
      "body.5.res_layer.0.weight\n",
      "body.5.res_layer.0.bias\n",
      "body.5.res_layer.0.running_mean\n",
      "body.5.res_layer.0.running_var\n",
      "body.5.res_layer.1.weight\n",
      "body.5.res_layer.2.weight\n",
      "body.5.res_layer.3.weight\n",
      "body.5.res_layer.4.weight\n",
      "body.5.res_layer.4.bias\n",
      "body.5.res_layer.4.running_mean\n",
      "body.5.res_layer.4.running_var\n",
      "body.5.res_layer.5.fc1.weight\n",
      "body.5.res_layer.5.fc2.weight\n",
      "body.6.res_layer.0.weight\n",
      "body.6.res_layer.0.bias\n",
      "body.6.res_layer.0.running_mean\n",
      "body.6.res_layer.0.running_var\n",
      "body.6.res_layer.1.weight\n",
      "body.6.res_layer.2.weight\n",
      "body.6.res_layer.3.weight\n",
      "body.6.res_layer.4.weight\n",
      "body.6.res_layer.4.bias\n",
      "body.6.res_layer.4.running_mean\n",
      "body.6.res_layer.4.running_var\n",
      "body.6.res_layer.5.fc1.weight\n",
      "body.6.res_layer.5.fc2.weight\n",
      "body.7.shortcut_layer.0.weight\n",
      "body.7.shortcut_layer.1.weight\n",
      "body.7.shortcut_layer.1.bias\n",
      "body.7.shortcut_layer.1.running_mean\n",
      "body.7.shortcut_layer.1.running_var\n",
      "body.7.res_layer.0.weight\n",
      "body.7.res_layer.0.bias\n",
      "body.7.res_layer.0.running_mean\n",
      "body.7.res_layer.0.running_var\n",
      "body.7.res_layer.1.weight\n",
      "body.7.res_layer.2.weight\n",
      "body.7.res_layer.3.weight\n",
      "body.7.res_layer.4.weight\n",
      "body.7.res_layer.4.bias\n",
      "body.7.res_layer.4.running_mean\n",
      "body.7.res_layer.4.running_var\n",
      "body.7.res_layer.5.fc1.weight\n",
      "body.7.res_layer.5.fc2.weight\n",
      "body.8.res_layer.0.weight\n",
      "body.8.res_layer.0.bias\n",
      "body.8.res_layer.0.running_mean\n",
      "body.8.res_layer.0.running_var\n",
      "body.8.res_layer.1.weight\n",
      "body.8.res_layer.2.weight\n",
      "body.8.res_layer.3.weight\n",
      "body.8.res_layer.4.weight\n",
      "body.8.res_layer.4.bias\n",
      "body.8.res_layer.4.running_mean\n",
      "body.8.res_layer.4.running_var\n",
      "body.8.res_layer.5.fc1.weight\n",
      "body.8.res_layer.5.fc2.weight\n",
      "body.9.res_layer.0.weight\n",
      "body.9.res_layer.0.bias\n",
      "body.9.res_layer.0.running_mean\n",
      "body.9.res_layer.0.running_var\n",
      "body.9.res_layer.1.weight\n",
      "body.9.res_layer.2.weight\n",
      "body.9.res_layer.3.weight\n",
      "body.9.res_layer.4.weight\n",
      "body.9.res_layer.4.bias\n",
      "body.9.res_layer.4.running_mean\n",
      "body.9.res_layer.4.running_var\n",
      "body.9.res_layer.5.fc1.weight\n",
      "body.9.res_layer.5.fc2.weight\n",
      "body.10.res_layer.0.weight\n",
      "body.10.res_layer.0.bias\n",
      "body.10.res_layer.0.running_mean\n",
      "body.10.res_layer.0.running_var\n",
      "body.10.res_layer.1.weight\n",
      "body.10.res_layer.2.weight\n",
      "body.10.res_layer.3.weight\n",
      "body.10.res_layer.4.weight\n",
      "body.10.res_layer.4.bias\n",
      "body.10.res_layer.4.running_mean\n",
      "body.10.res_layer.4.running_var\n",
      "body.10.res_layer.5.fc1.weight\n",
      "body.10.res_layer.5.fc2.weight\n",
      "body.11.res_layer.0.weight\n",
      "body.11.res_layer.0.bias\n",
      "body.11.res_layer.0.running_mean\n",
      "body.11.res_layer.0.running_var\n",
      "body.11.res_layer.1.weight\n",
      "body.11.res_layer.2.weight\n",
      "body.11.res_layer.3.weight\n",
      "body.11.res_layer.4.weight\n",
      "body.11.res_layer.4.bias\n",
      "body.11.res_layer.4.running_mean\n",
      "body.11.res_layer.4.running_var\n",
      "body.11.res_layer.5.fc1.weight\n",
      "body.11.res_layer.5.fc2.weight\n",
      "body.12.res_layer.0.weight\n",
      "body.12.res_layer.0.bias\n",
      "body.12.res_layer.0.running_mean\n",
      "body.12.res_layer.0.running_var\n",
      "body.12.res_layer.1.weight\n",
      "body.12.res_layer.2.weight\n",
      "body.12.res_layer.3.weight\n",
      "body.12.res_layer.4.weight\n",
      "body.12.res_layer.4.bias\n",
      "body.12.res_layer.4.running_mean\n",
      "body.12.res_layer.4.running_var\n",
      "body.12.res_layer.5.fc1.weight\n",
      "body.12.res_layer.5.fc2.weight\n",
      "body.13.res_layer.0.weight\n",
      "body.13.res_layer.0.bias\n",
      "body.13.res_layer.0.running_mean\n",
      "body.13.res_layer.0.running_var\n",
      "body.13.res_layer.1.weight\n",
      "body.13.res_layer.2.weight\n",
      "body.13.res_layer.3.weight\n",
      "body.13.res_layer.4.weight\n",
      "body.13.res_layer.4.bias\n",
      "body.13.res_layer.4.running_mean\n",
      "body.13.res_layer.4.running_var\n",
      "body.13.res_layer.5.fc1.weight\n",
      "body.13.res_layer.5.fc2.weight\n",
      "body.14.res_layer.0.weight\n",
      "body.14.res_layer.0.bias\n",
      "body.14.res_layer.0.running_mean\n",
      "body.14.res_layer.0.running_var\n",
      "body.14.res_layer.1.weight\n",
      "body.14.res_layer.2.weight\n",
      "body.14.res_layer.3.weight\n",
      "body.14.res_layer.4.weight\n",
      "body.14.res_layer.4.bias\n",
      "body.14.res_layer.4.running_mean\n",
      "body.14.res_layer.4.running_var\n",
      "body.14.res_layer.5.fc1.weight\n",
      "body.14.res_layer.5.fc2.weight\n",
      "body.15.res_layer.0.weight\n",
      "body.15.res_layer.0.bias\n",
      "body.15.res_layer.0.running_mean\n",
      "body.15.res_layer.0.running_var\n",
      "body.15.res_layer.1.weight\n",
      "body.15.res_layer.2.weight\n",
      "body.15.res_layer.3.weight\n",
      "body.15.res_layer.4.weight\n",
      "body.15.res_layer.4.bias\n",
      "body.15.res_layer.4.running_mean\n",
      "body.15.res_layer.4.running_var\n",
      "body.15.res_layer.5.fc1.weight\n",
      "body.15.res_layer.5.fc2.weight\n",
      "body.16.res_layer.0.weight\n",
      "body.16.res_layer.0.bias\n",
      "body.16.res_layer.0.running_mean\n",
      "body.16.res_layer.0.running_var\n",
      "body.16.res_layer.1.weight\n",
      "body.16.res_layer.2.weight\n",
      "body.16.res_layer.3.weight\n",
      "body.16.res_layer.4.weight\n",
      "body.16.res_layer.4.bias\n",
      "body.16.res_layer.4.running_mean\n",
      "body.16.res_layer.4.running_var\n",
      "body.16.res_layer.5.fc1.weight\n",
      "body.16.res_layer.5.fc2.weight\n",
      "body.17.res_layer.0.weight\n",
      "body.17.res_layer.0.bias\n",
      "body.17.res_layer.0.running_mean\n",
      "body.17.res_layer.0.running_var\n",
      "body.17.res_layer.1.weight\n",
      "body.17.res_layer.2.weight\n",
      "body.17.res_layer.3.weight\n",
      "body.17.res_layer.4.weight\n",
      "body.17.res_layer.4.bias\n",
      "body.17.res_layer.4.running_mean\n",
      "body.17.res_layer.4.running_var\n",
      "body.17.res_layer.5.fc1.weight\n",
      "body.17.res_layer.5.fc2.weight\n",
      "body.18.res_layer.0.weight\n",
      "body.18.res_layer.0.bias\n",
      "body.18.res_layer.0.running_mean\n",
      "body.18.res_layer.0.running_var\n",
      "body.18.res_layer.1.weight\n",
      "body.18.res_layer.2.weight\n",
      "body.18.res_layer.3.weight\n",
      "body.18.res_layer.4.weight\n",
      "body.18.res_layer.4.bias\n",
      "body.18.res_layer.4.running_mean\n",
      "body.18.res_layer.4.running_var\n",
      "body.18.res_layer.5.fc1.weight\n",
      "body.18.res_layer.5.fc2.weight\n",
      "body.19.res_layer.0.weight\n",
      "body.19.res_layer.0.bias\n",
      "body.19.res_layer.0.running_mean\n",
      "body.19.res_layer.0.running_var\n",
      "body.19.res_layer.1.weight\n",
      "body.19.res_layer.2.weight\n",
      "body.19.res_layer.3.weight\n",
      "body.19.res_layer.4.weight\n",
      "body.19.res_layer.4.bias\n",
      "body.19.res_layer.4.running_mean\n",
      "body.19.res_layer.4.running_var\n",
      "body.19.res_layer.5.fc1.weight\n",
      "body.19.res_layer.5.fc2.weight\n",
      "body.20.res_layer.0.weight\n",
      "body.20.res_layer.0.bias\n",
      "body.20.res_layer.0.running_mean\n",
      "body.20.res_layer.0.running_var\n",
      "body.20.res_layer.1.weight\n",
      "body.20.res_layer.2.weight\n",
      "body.20.res_layer.3.weight\n",
      "body.20.res_layer.4.weight\n",
      "body.20.res_layer.4.bias\n",
      "body.20.res_layer.4.running_mean\n",
      "body.20.res_layer.4.running_var\n",
      "body.20.res_layer.5.fc1.weight\n",
      "body.20.res_layer.5.fc2.weight\n",
      "body.21.shortcut_layer.0.weight\n",
      "body.21.shortcut_layer.1.weight\n",
      "body.21.shortcut_layer.1.bias\n",
      "body.21.shortcut_layer.1.running_mean\n",
      "body.21.shortcut_layer.1.running_var\n",
      "body.21.res_layer.0.weight\n",
      "body.21.res_layer.0.bias\n",
      "body.21.res_layer.0.running_mean\n",
      "body.21.res_layer.0.running_var\n",
      "body.21.res_layer.1.weight\n",
      "body.21.res_layer.2.weight\n",
      "body.21.res_layer.3.weight\n",
      "body.21.res_layer.4.weight\n",
      "body.21.res_layer.4.bias\n",
      "body.21.res_layer.4.running_mean\n",
      "body.21.res_layer.4.running_var\n",
      "body.21.res_layer.5.fc1.weight\n",
      "body.21.res_layer.5.fc2.weight\n",
      "body.22.res_layer.0.weight\n",
      "body.22.res_layer.0.bias\n",
      "body.22.res_layer.0.running_mean\n",
      "body.22.res_layer.0.running_var\n",
      "body.22.res_layer.1.weight\n",
      "body.22.res_layer.2.weight\n",
      "body.22.res_layer.3.weight\n",
      "body.22.res_layer.4.weight\n",
      "body.22.res_layer.4.bias\n",
      "body.22.res_layer.4.running_mean\n",
      "body.22.res_layer.4.running_var\n",
      "body.22.res_layer.5.fc1.weight\n",
      "body.22.res_layer.5.fc2.weight\n",
      "body.23.res_layer.0.weight\n",
      "body.23.res_layer.0.bias\n",
      "body.23.res_layer.0.running_mean\n",
      "body.23.res_layer.0.running_var\n",
      "body.23.res_layer.1.weight\n",
      "body.23.res_layer.2.weight\n",
      "body.23.res_layer.3.weight\n",
      "body.23.res_layer.4.weight\n",
      "body.23.res_layer.4.bias\n",
      "body.23.res_layer.4.running_mean\n",
      "body.23.res_layer.4.running_var\n",
      "body.23.res_layer.5.fc1.weight\n",
      "body.23.res_layer.5.fc2.weight\n"
     ]
    }
   ],
   "source": [
    "for k in net.keys():\n",
    "    print(k) # 查看四个键，分别是 model,optimizer,scheduler,iteration"
   ]
  },
  {
   "cell_type": "code",
   "execution_count": 1,
   "metadata": {},
   "outputs": [],
   "source": [
    "import glob"
   ]
  },
  {
   "cell_type": "code",
   "execution_count": 2,
   "metadata": {},
   "outputs": [
    {
     "name": "stdout",
     "output_type": "stream",
     "text": [
      "./w_offset_320.log 0\n",
      "./test.log 0\n",
      "./arcfacemodel 2\n",
      "./bashrc 0\n",
      "./train_upsample_baseline_80000.log 0\n",
      "./train_320_16.log 0\n",
      "./options 3\n",
      "./train_upsample_offset_40.log 0\n",
      "./setup.cfg 0\n",
      "./tb_logger 372\n",
      "./VERSION 0\n",
      "./train_upsample_weight_2w.log 0\n",
      "./wo_offset_320.log 0\n",
      "./train_upsample_fix.log 0\n",
      "./train_upsample_baseline_without_mask.log 0\n",
      "./tests 10\n",
      "./make.sh 0\n",
      "./visualization 14\n",
      "./build 4\n",
      "./psnr_log 9\n",
      "./vv 1\n",
      "./basicsr.egg-info 6\n",
      "./experiments 173\n",
      "./setup.py 0\n",
      "./train_turnover.log 0\n",
      "./README_CN.md 0\n",
      "./train_upsample_gt.log 0\n",
      "./train_160_wo_def_conv.log 0\n",
      "./train_upsample_with_offset_loss_1.log 0\n",
      "./train_upsample_first_offset.log 0\n",
      "./train_upsample_weight.log 0\n",
      "./docs 18\n",
      "./LICENSE 4\n",
      "./train_ori_offset.log 0\n",
      "./12.txt 0\n",
      "./__init__.py 0\n",
      "./basicsr 8\n",
      "./train_upsample_offset_5_without_mask.log 0\n",
      "./offset_0_train.log 0\n",
      "./i 0\n",
      "./flow_save_160 4\n",
      "./train_without_pcd.log 0\n",
      "./README.md 0\n",
      "./train_upsample_without_deformable.log 0\n",
      "./assets 2\n",
      "./train_upsample_baseline.log 0\n",
      "./train_upsample_test_nvidia.log 0\n",
      "./results 42\n",
      "./train_upsample_with_offset_loss100.log 0\n",
      "./train_upsample_with_offset.log 0\n",
      "./w_100_offset_320.log 0\n",
      "./log_ori 50\n",
      "./train_upsample_with_offset_loss_5.log 0\n",
      "./scripts 12\n",
      "./train_160_w_offset_loss.log 0\n",
      "./train_160_160.log 0\n",
      "./train_test.log 0\n",
      "./train_upsample_last_offset.log 0\n",
      "./order.txt 0\n",
      "./test_nvidia.log 0\n",
      "./Untitled.ipynb 0\n",
      "./train_160_baseline.log 0\n",
      "./test_name.log 0\n",
      "./requirements.txt 0\n",
      "./flow_save 2\n",
      "./train_offset_10.log 0\n"
     ]
    }
   ],
   "source": [
    "a = glob.glob('./*')\n",
    "for w in a:\n",
    "    glob_a = glob.glob(w+'/*')\n",
    "    print(w,len(glob_a))"
   ]
  },
  {
   "cell_type": "code",
   "execution_count": null,
   "metadata": {},
   "outputs": [],
   "source": []
  }
 ],
 "metadata": {
  "kernelspec": {
   "display_name": "Python [conda env:arc]",
   "language": "python",
   "name": "conda-env-arc-py"
  },
  "language_info": {
   "codemirror_mode": {
    "name": "ipython",
    "version": 3
   },
   "file_extension": ".py",
   "mimetype": "text/x-python",
   "name": "python",
   "nbconvert_exporter": "python",
   "pygments_lexer": "ipython3",
   "version": "3.6.12"
  }
 },
 "nbformat": 4,
 "nbformat_minor": 4
}
